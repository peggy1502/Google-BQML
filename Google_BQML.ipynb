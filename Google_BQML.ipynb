{
 "cells": [
  {
   "attachments": {
    "image.png": {
     "image/png": "[encoded data removed]"
    }
   },
   "cell_type": "markdown",
   "metadata": {},
   "source": [
    "# Create ML Models with BigQuery ML: Challenge Lab\n",
    "\n",
    "\n",
    "This notebook is written to document my solutions to the Google Cloud [challenge lab](https://google.qwiklabs.com/focuses/14294?parent=catalog) for the **[Create ML Models with BigQuery ML](https://google.qwiklabs.com/quests/146)** quest. This challenge lab tests skills in developing and using machine learning models using BigQuery.\n",
    "\n",
    "You can earn a skill badge after completing the quest and the challenge lab.\n",
    "\n",
    "[![image.png](attachment:image.png)](https://google.qwiklabs.com/public_profiles/c0a951c2-747f-4e4a-9520-3a67696131fb)\n",
    "\n",
    "\n",
    "\n"
   ]
  },
  {
   "cell_type": "markdown",
   "metadata": {},
   "source": [
    "## Topics tested\n",
    "\n",
    "- Create a new BigQuery dataset which will store the BigQuery ML models.\n",
    "- Create forecasting (linear regression) models in BigQuery ML.\n",
    "- Evaluate the performance of machine learning models.\n",
    "- Make predictions of trip duration using BigQuery ML models.\n",
    "\n",
    "## Challenge scenario\n",
    "\n",
    "You have started a new role as a junior member of the Data Science department Jooli Inc. Your team is working on a number of machine learning initiatives related to urban mobility services. You are expected to help with the development and assessment of data sets and machine learning models to help provide insights based on real work data sets.\n",
    "\n",
    "## Your challenge\n",
    "\n",
    "One of the projects you are working on needs to provide analysis based on real world data that will help in the selection of new bicycle models for public bike share systems. Your role in this project is to develop and evaluate machine learning models that can predict average trip durations for bike schemes using the public data from Austin's public bike share scheme to train and evaluate your models.\n",
    "\n",
    "Two of the senior data scientists in your team have different theories on what factors are important in determining the duration of a bike share trip and you have been asked to prioritise these to start. The first data scientist maintains that the key factors are the start station, the location of the start station, the day of the week and the hour the trip started. While the second data scientist argues that this is an over complication and the key factors are simply start station, subscriber type, and the hour the trip started.\n",
    "\n",
    "You have been asked to develop a machine learning model based on each of these input features. Given the fact that stay-at-home orders were in place for Austin during parts of 2020 as a result of COVID-19 you will be working on data from previous years. You have been instructed to train your models on data from 2018 and then evaluate them against data from 2019 on the basis of Mean Absolute Error and the square root of Mean Squared Error.\n",
    "\n",
    "You can access the public data for the Austin bike share scheme in your project by opening [this link to the Austin bike share dataset](https://console.cloud.google.com/bigquery?p=bigquery-public-data&d=austin_bikeshare&page=dataset) in the browser tab for your lab.\n",
    "\n",
    "As a final step you must create and run a query that uses the model that includes subscriber type as a feature, to predict the average trip duration for all trips from the busiest bike sharing station in 2019 (based on the number of trips per station in 2019) where the subscriber type is 'Single Trip'."
   ]
  },
  {
   "cell_type": "markdown",
   "metadata": {},
   "source": [
    "## Preview of the Austin bike share dataset\n",
    "\n",
    "Before starting the challenge, let's preview the Austin bike share dataset first.\n",
    "\n",
    "The 2 tables are `bikeshare_stations` and `bikeshare_trips`.\n",
    "\n",
    "### bikeshare_stations (schema)\n",
    "\n",
    "![station](station_schema.PNG)\n",
    "\n",
    "### bikeshare_stations (preview)\n",
    "\n",
    "![station](station_preview.PNG)\n",
    "\n",
    "### bikeshare_trips (schema)\n",
    "\n",
    "![trips](trips_schema.PNG)\n",
    "\n",
    "### bikeshare_trips (preview)\n",
    "\n",
    "![trips](trips_preview.PNG)\n",
    "\n",
    "\n"
   ]
  },
  {
   "cell_type": "markdown",
   "metadata": {},
   "source": [
    "## Task 1: Create a dataset to store your machine learning models\n",
    "\n",
    "Create a new dataset in which you can store your machine learning models.\n",
    "\n",
    "*Solution for Task 1:* \n",
    "\n",
    "*A dataset named **Austin_bike** is created.*\n",
    "\n",
    "![T1](create_dataset.PNG)"
   ]
  },
  {
   "cell_type": "markdown",
   "metadata": {},
   "source": [
    "## Task 2: Create a forecasting BigQuery machine learning model\n",
    "\n",
    "Create the first machine learning model to predict the trip duration for bike trips. \n",
    "\n",
    "The features of this model must incorporate:\n",
    "- the starting station name\n",
    "- the hour the trip started\n",
    "- the weekday of the trip\n",
    "- the location of the start station\n",
    "\n",
    "You must use 2018 data only to train this model."
   ]
  },
  {
   "cell_type": "code",
   "execution_count": null,
   "metadata": {},
   "outputs": [],
   "source": [
    "# Solution for Task 2:\n",
    "\n",
    "CREATE OR REPLACE MODEL Austin_bike.duration_model_1\n",
    "OPTIONS\n",
    "    (model_type='linear_reg', labels=['duration_minutes']) AS\n",
    "SELECT\n",
    "    duration_minutes,\n",
    "    start_station_name,\n",
    "    EXTRACT(HOUR FROM start_time) AS start_hour,\n",
    "    EXTRACT(DAYOFWEEK FROM start_time) AS day,\n",
    "    location\n",
    "FROM\n",
    "    `bigquery-public-data.austin_bikeshare.bikeshare_trips` AS trips\n",
    "INNER JOIN\n",
    "    `bigquery-public-data.austin_bikeshare.bikeshare_stations` AS stations\n",
    "ON\n",
    "    trips.start_station_name = stations.name\n",
    "WHERE\n",
    "    EXTRACT(YEAR FROM start_time) = 2018\n",
    "    AND duration_minutes > 0\n"
   ]
  },
  {
   "cell_type": "markdown",
   "metadata": {},
   "source": [
    "## Task 3: Create the second machine learning model\n",
    "\n",
    "Create the second machine learning model to predict the trip duration for bike trips. \n",
    "\n",
    "The features of this model must incorporate:\n",
    "- the starting station name\n",
    "- the bike share subscriber type\n",
    "- the start time for the trip\n",
    "\n",
    "You must also use 2018 data only to train this model."
   ]
  },
  {
   "cell_type": "code",
   "execution_count": null,
   "metadata": {},
   "outputs": [],
   "source": [
    "# Solution for Task 3:\n",
    "\n",
    "CREATE OR REPLACE MODEL Austin_bike.duration_model_2\n",
    "OPTIONS\n",
    "    (model_type='linear_reg', labels=['duration_minutes']) AS\n",
    "SELECT\n",
    "    duration_minutes,\n",
    "    start_station_name,\n",
    "    subscriber_type,\n",
    "    EXTRACT(HOUR FROM start_time) AS start_hour    \n",
    "FROM \n",
    "    `bigquery-public-data.austin_bikeshare.bikeshare_trips` AS trips\n",
    "WHERE EXTRACT(YEAR FROM start_time) = 2018\n",
    "    AND duration_minutes > 0\n"
   ]
  },
  {
   "cell_type": "markdown",
   "metadata": {},
   "source": [
    "## Task 4: Evaluate the two machine learning models\n",
    "\n",
    "Evaluate each of the machine learning models against 2019 data only using separate queries. \n",
    "\n",
    "Your queries must report both the **Mean Absolute Error** and the **Root Mean Square Error**."
   ]
  },
  {
   "cell_type": "code",
   "execution_count": null,
   "metadata": {},
   "outputs": [],
   "source": [
    "# Solution for Task 4 (first model):\n",
    "\n",
    "SELECT\n",
    "    SQRT(mean_squared_error) AS rmse,\n",
    "    mean_absolute_error AS mae\n",
    "FROM\n",
    "    ML.EVALUATE(MODEL `Austin_bike.duration_model_1`, (\n",
    "    SELECT\n",
    "        duration_minutes,\n",
    "        start_station_name,\n",
    "        EXTRACT(HOUR FROM start_time) AS start_hour,\n",
    "        EXTRACT(DAYOFWEEK FROM start_time) AS day,\n",
    "        location\n",
    "    FROM\n",
    "        `bigquery-public-data.austin_bikeshare.bikeshare_trips` AS trips\n",
    "    INNER JOIN\n",
    "        `bigquery-public-data.austin_bikeshare.bikeshare_stations` AS stations\n",
    "    ON \n",
    "        trips.start_station_name = stations.name\n",
    "    WHERE EXTRACT(YEAR FROM start_time) = 2019\n",
    "        AND duration_minutes > 0\n",
    "    ))\n"
   ]
  },
  {
   "cell_type": "markdown",
   "metadata": {},
   "source": [
    "![rmse1](rmse_model1.PNG)"
   ]
  },
  {
   "cell_type": "code",
   "execution_count": null,
   "metadata": {},
   "outputs": [],
   "source": [
    "# Solution for Task 4 (second model):\n",
    "\n",
    "SELECT\n",
    "    SQRT(mean_squared_error) AS rmse,\n",
    "    mean_absolute_error AS mae\n",
    "FROM\n",
    "    ML.EVALUATE(MODEL `Austin_bike.duration_model_2`, (\n",
    "    SELECT\n",
    "        duration_minutes,\n",
    "        start_station_name,\n",
    "        subscriber_type,\n",
    "        EXTRACT(HOUR FROM start_time) AS start_hour  \n",
    "    FROM\n",
    "        `bigquery-public-data.austin_bikeshare.bikeshare_trips` AS trips\n",
    "    WHERE EXTRACT(YEAR FROM start_time) = 2019\n",
    "        AND duration_minutes > 0\n",
    "    ))\n"
   ]
  },
  {
   "cell_type": "markdown",
   "metadata": {},
   "source": [
    "![rmse2](rmse_model2.PNG)"
   ]
  },
  {
   "cell_type": "markdown",
   "metadata": {},
   "source": [
    "## Task 5: Use the subscriber type machine learning model to predict average trip durations\n",
    "\n",
    "When both models have been created and evaluated, use the second model, that uses `subscriber_type` as a feature, to predict average trip length for trips from the busiest bike sharing station in 2019 where the subscriber type is 'Single Trip'."
   ]
  },
  {
   "cell_type": "code",
   "execution_count": null,
   "metadata": {},
   "outputs": [],
   "source": [
    "# Solution for Task 5:\n",
    "# ---------------------\n",
    "\n",
    "# Store the prediction in a table, which will be used for the query later.\n",
    "\n",
    "CREATE OR REPLACE TABLE `Austin_bike.predictions` AS \n",
    "(\n",
    "SELECT * \n",
    "FROM\n",
    "    ML.PREDICT(MODEL `Austin_bike.duration_model_2`, (\n",
    "    SELECT \n",
    "      duration_minutes,\n",
    "      start_station_name,\n",
    "      subscriber_type,\n",
    "  EXTRACT(HOUR FROM start_time) AS start_hour \n",
    "    FROM `bigquery-public-data.austin_bikeshare.bikeshare_trips`\n",
    "    WHERE EXTRACT(YEAR FROM start_time) = 2019\n",
    "    AND duration_minutes > 0    \n",
    "  ))\n",
    ")\n",
    "\n",
    "WITH busiest_station AS (\n",
    "    # Find the busiest bike sharing station in 2019 \n",
    "SELECT\n",
    "    start_station_name,\n",
    "    COUNT(*) AS number_of_trips\n",
    "FROM\n",
    "    `bigquery-public-data.austin_bikeshare.bikeshare_trips`\n",
    "WHERE\n",
    "    EXTRACT(YEAR FROM start_time) = 2019\n",
    "GROUP BY start_station_name\n",
    "ORDER BY number_of_trips DESC\n",
    "LIMIT 1\n",
    ")\n",
    "\n",
    "SELECT AVG(predicted_duration_minutes) AS avg_predicted_duration_minutes\n",
    "FROM `Austin_bike.predictions` P\n",
    "INNER JOIN busiest_station B\n",
    "ON P.start_station_name = B.start_station_name\n",
    "WHERE P.subscriber_type = 'Single Trip'\n"
   ]
  },
  {
   "cell_type": "markdown",
   "metadata": {},
   "source": [
    "![prediction](avg_predicted_duration_minutes.PNG)"
   ]
  },
  {
   "cell_type": "code",
   "execution_count": null,
   "metadata": {},
   "outputs": [],
   "source": [
    "# Alternative solution for Task 5:\n",
    "# --------------------------------\n",
    "\n",
    "# First, find the busiest bike sharing station in 2019.\n",
    "SELECT\n",
    "    start_station_name,\n",
    "    COUNT(*) AS number_of_trips\n",
    "FROM\n",
    "    `bigquery-public-data.austin_bikeshare.bikeshare_trips`\n",
    "WHERE\n",
    "    EXTRACT(YEAR FROM start_time) = 2019\n",
    "GROUP BY\n",
    "    start_station_name\n",
    "ORDER BY\n",
    "    number_of_trips DESC\n"
   ]
  },
  {
   "cell_type": "markdown",
   "metadata": {},
   "source": [
    "![station](busiest_station.PNG)"
   ]
  },
  {
   "cell_type": "code",
   "execution_count": null,
   "metadata": {},
   "outputs": [],
   "source": [
    "# Next, get the avg_predicted_duration_minutes from ML.PREDICT using the busiest station from the earlier query.\n",
    "\n",
    "SELECT AVG(predicted_duration_minutes) AS avg_predicted_duration_minutes\n",
    "FROM\n",
    "    ML.PREDICT(MODEL `Austin_bike.duration_model_2`, (\n",
    "    SELECT \n",
    "      duration_minutes,\n",
    "      start_station_name,\n",
    "      subscriber_type,\n",
    "  EXTRACT(HOUR FROM start_time) AS start_hour \n",
    "    FROM `bigquery-public-data.austin_bikeshare.bikeshare_trips`\n",
    "    WHERE EXTRACT(YEAR FROM start_time) = 2019\n",
    "    AND duration_minutes > 0\n",
    "    AND subscriber_type = 'Single Trip'\n",
    "    AND start_station_name = '21st & Speedway @PCL'\n",
    "  ))\n"
   ]
  }
 ],
 "metadata": {
  "kernelspec": {
   "display_name": "Python 3",
   "language": "python",
   "name": "python3"
  },
  "language_info": {
   "codemirror_mode": {
    "name": "ipython",
    "version": 3
   },
   "file_extension": ".py",
   "mimetype": "text/x-python",
   "name": "python",
   "nbconvert_exporter": "python",
   "pygments_lexer": "ipython3",
   "version": "3.7.4"
  }
 },
 "nbformat": 4,
 "nbformat_minor": 2
}
